{
 "cells": [
  {
   "cell_type": "markdown",
   "id": "a5581352",
   "metadata": {},
   "source": [
    "# Numpy- Numerical Python\n",
    "<br>\n",
    "Advantages of Numpy Arrays: <br>\n",
    "1. Allows several Mathematical Operations  <br>\n",
    "2. Faster operations"
   ]
  },
  {
   "cell_type": "code",
   "execution_count": 1,
   "id": "f6a812bb",
   "metadata": {},
   "outputs": [],
   "source": [
    "import numpy as np"
   ]
  },
  {
   "cell_type": "markdown",
   "id": "409fe771",
   "metadata": {},
   "source": [
    "<b> List vs Numpy - Time Taken"
   ]
  },
  {
   "cell_type": "code",
   "execution_count": 2,
   "id": "c1732f0b",
   "metadata": {},
   "outputs": [],
   "source": [
    "from time import process_time\n"
   ]
  },
  {
   "cell_type": "markdown",
   "id": "967dc98e",
   "metadata": {},
   "source": [
    "Time taken by a list"
   ]
  },
  {
   "cell_type": "code",
   "execution_count": 6,
   "id": "f8b8e916",
   "metadata": {},
   "outputs": [
    {
     "name": "stdout",
     "output_type": "stream",
     "text": [
      "0.0\n"
     ]
    }
   ],
   "source": [
    "python_list=[i for i in range(10000)]\n",
    "\n",
    "start_time=process_time()\n",
    "\n",
    "python_list=[i+5 for i in python_list]\n",
    "end_time=process_time()\n",
    "print(end_time-start_time)\n"
   ]
  },
  {
   "cell_type": "code",
   "execution_count": 8,
   "id": "1ef39697",
   "metadata": {},
   "outputs": [
    {
     "name": "stdout",
     "output_type": "stream",
     "text": [
      "0.0\n"
     ]
    }
   ],
   "source": [
    "np_array=np.array([i for i in range(10000)])\n",
    "start_time=process_time()\n",
    "np_array+=5\n",
    "end_time=process_time()\n",
    "print(end_time-start_time)"
   ]
  },
  {
   "cell_type": "markdown",
   "id": "a56a7c26",
   "metadata": {},
   "source": [
    "<b> (In numpy array, the operation is faster ) </b>"
   ]
  },
  {
   "cell_type": "markdown",
   "id": "fc4a9df9",
   "metadata": {},
   "source": [
    "<b> Numpy Arrays </b>"
   ]
  },
  {
   "cell_type": "code",
   "execution_count": 9,
   "id": "de7e40cf",
   "metadata": {},
   "outputs": [
    {
     "name": "stdout",
     "output_type": "stream",
     "text": [
      "[1, 2, 3, 4, 5]\n"
     ]
    },
    {
     "data": {
      "text/plain": [
       "list"
      ]
     },
     "execution_count": 9,
     "metadata": {},
     "output_type": "execute_result"
    }
   ],
   "source": [
    "#list\n",
    "list1=[1,2,3,4,5]\n",
    "print(list1)\n",
    "type(list1)"
   ]
  },
  {
   "cell_type": "code",
   "execution_count": 10,
   "id": "22ea0d1d",
   "metadata": {},
   "outputs": [
    {
     "name": "stdout",
     "output_type": "stream",
     "text": [
      "[1 2 3 4 5]\n"
     ]
    },
    {
     "data": {
      "text/plain": [
       "numpy.ndarray"
      ]
     },
     "execution_count": 10,
     "metadata": {},
     "output_type": "execute_result"
    }
   ],
   "source": [
    "np_array=np.array([1,2,3,4,5])\n",
    "print(np_array)\n",
    "type(np_array)"
   ]
  },
  {
   "cell_type": "code",
   "execution_count": 11,
   "id": "105bd36a",
   "metadata": {},
   "outputs": [
    {
     "name": "stdout",
     "output_type": "stream",
     "text": [
      "[1 2 3 4]\n"
     ]
    }
   ],
   "source": [
    "# Creating a 1 dim array\n",
    "a=np.array([1,2,3,4])\n",
    "print(a)"
   ]
  },
  {
   "cell_type": "code",
   "execution_count": 12,
   "id": "eb915149",
   "metadata": {},
   "outputs": [
    {
     "data": {
      "text/plain": [
       "(4,)"
      ]
     },
     "execution_count": 12,
     "metadata": {},
     "output_type": "execute_result"
    }
   ],
   "source": [
    "a.shape"
   ]
  },
  {
   "cell_type": "code",
   "execution_count": 13,
   "id": "b64d04bd",
   "metadata": {},
   "outputs": [
    {
     "name": "stdout",
     "output_type": "stream",
     "text": [
      "[[1 2 3 4]\n",
      " [5 6 7 8]]\n"
     ]
    }
   ],
   "source": [
    "b=np.array([(1,2,3,4),(5,6,7,8)])\n",
    "print(b)"
   ]
  },
  {
   "cell_type": "code",
   "execution_count": 14,
   "id": "f822b60b",
   "metadata": {},
   "outputs": [
    {
     "data": {
      "text/plain": [
       "(2, 4)"
      ]
     },
     "execution_count": 14,
     "metadata": {},
     "output_type": "execute_result"
    }
   ],
   "source": [
    "b.shape"
   ]
  },
  {
   "cell_type": "code",
   "execution_count": 16,
   "id": "87737a25",
   "metadata": {},
   "outputs": [
    {
     "name": "stdout",
     "output_type": "stream",
     "text": [
      "[[1. 2. 3. 4.]\n",
      " [5. 6. 7. 8.]]\n"
     ]
    }
   ],
   "source": [
    "c=np.array([(1,2,3,4),(5,6,7,8)],dtype=float)\n",
    "print(c)"
   ]
  },
  {
   "cell_type": "markdown",
   "id": "8ae3f18b",
   "metadata": {},
   "source": [
    "<b> Initial Placeholders in numpy arrays </b>"
   ]
  },
  {
   "cell_type": "code",
   "execution_count": 17,
   "id": "fb6838be",
   "metadata": {},
   "outputs": [
    {
     "name": "stdout",
     "output_type": "stream",
     "text": [
      "[[0. 0. 0. 0. 0.]\n",
      " [0. 0. 0. 0. 0.]\n",
      " [0. 0. 0. 0. 0.]\n",
      " [0. 0. 0. 0. 0.]]\n"
     ]
    }
   ],
   "source": [
    "#create a numpy array of zeros\n",
    "x=np.zeros((4,5))\n",
    "print(x)"
   ]
  },
  {
   "cell_type": "code",
   "execution_count": 18,
   "id": "00b4733a",
   "metadata": {},
   "outputs": [
    {
     "name": "stdout",
     "output_type": "stream",
     "text": [
      "[[1. 1. 1.]\n",
      " [1. 1. 1.]\n",
      " [1. 1. 1.]]\n"
     ]
    }
   ],
   "source": [
    "#create a numpy array of ones\n",
    "y=np.ones((3,3))\n",
    "print(y)"
   ]
  },
  {
   "cell_type": "code",
   "execution_count": 19,
   "id": "dd2f1f4a",
   "metadata": {},
   "outputs": [
    {
     "name": "stdout",
     "output_type": "stream",
     "text": [
      "[[5 5 5 5]\n",
      " [5 5 5 5]\n",
      " [5 5 5 5]\n",
      " [5 5 5 5]\n",
      " [5 5 5 5]]\n"
     ]
    }
   ],
   "source": [
    "#array of a particular values\n",
    "z=np.full((5,4),5)\n",
    "print(z)"
   ]
  },
  {
   "cell_type": "code",
   "execution_count": 20,
   "id": "6ac0b9e9",
   "metadata": {},
   "outputs": [
    {
     "name": "stdout",
     "output_type": "stream",
     "text": [
      "[[1. 0. 0. 0.]\n",
      " [0. 1. 0. 0.]\n",
      " [0. 0. 1. 0.]\n",
      " [0. 0. 0. 1.]]\n"
     ]
    }
   ],
   "source": [
    "# create an identity matrix\n",
    "a=np.eye(4)\n",
    "print(a)"
   ]
  },
  {
   "cell_type": "code",
   "execution_count": 21,
   "id": "24f94aac",
   "metadata": {},
   "outputs": [
    {
     "name": "stdout",
     "output_type": "stream",
     "text": [
      "[[0.44511413 0.969275   0.31973283 0.10871587]\n",
      " [0.41932473 0.69862287 0.71572275 0.47323615]\n",
      " [0.56857491 0.57803133 0.5491311  0.72992324]]\n"
     ]
    }
   ],
   "source": [
    "# create a numpy array with random values\n",
    "b=np.random.random((3,4))\n",
    "print(b)"
   ]
  },
  {
   "cell_type": "code",
   "execution_count": 22,
   "id": "2e02d356",
   "metadata": {},
   "outputs": [
    {
     "name": "stdout",
     "output_type": "stream",
     "text": [
      "[[28 17 48 88 20]\n",
      " [50 13 36 46 18]\n",
      " [35 77 60 47 63]]\n"
     ]
    }
   ],
   "source": [
    "#random integer values array within a specific range\n",
    "c=np.random.randint(10,100,(3,5))\n",
    "print(c)"
   ]
  },
  {
   "cell_type": "code",
   "execution_count": 29,
   "id": "03484f22",
   "metadata": {},
   "outputs": [
    {
     "name": "stdout",
     "output_type": "stream",
     "text": [
      "[10. 14. 18. 22. 26. 30.]\n"
     ]
    }
   ],
   "source": [
    "# array of evenly spaced values --> specifying the number of values required\n",
    "d=np.linspace(10,30,6)\n",
    "print(d)"
   ]
  },
  {
   "cell_type": "code",
   "execution_count": 26,
   "id": "21ded680",
   "metadata": {},
   "outputs": [
    {
     "name": "stdout",
     "output_type": "stream",
     "text": [
      "[10 15 20 25]\n"
     ]
    }
   ],
   "source": [
    "#array of evenly spaced values --> specifying the step\n",
    "e=np.arange(10,30,5)\n",
    "print(e)"
   ]
  },
  {
   "cell_type": "markdown",
   "id": "3aa84fa3",
   "metadata": {},
   "source": [
    "<b> Convert a list to a numpy array </b>"
   ]
  },
  {
   "cell_type": "code",
   "execution_count": 30,
   "id": "e5ddfb64",
   "metadata": {},
   "outputs": [
    {
     "name": "stdout",
     "output_type": "stream",
     "text": [
      "[10 20 20 20 50]\n"
     ]
    },
    {
     "data": {
      "text/plain": [
       "numpy.ndarray"
      ]
     },
     "execution_count": 30,
     "metadata": {},
     "output_type": "execute_result"
    }
   ],
   "source": [
    "# Convert a list to a numpy array \n",
    "list2=[10,20,20,20,50]\n",
    "\n",
    "np_array=np.asarray(list2)\n",
    "print(np_array)\n",
    "type(np_array)"
   ]
  },
  {
   "cell_type": "markdown",
   "id": "f7a3fffb",
   "metadata": {},
   "source": [
    "<b> Anlysing  a numpy array </b>"
   ]
  },
  {
   "cell_type": "code",
   "execution_count": 31,
   "id": "ce1e2bdf",
   "metadata": {},
   "outputs": [
    {
     "name": "stdout",
     "output_type": "stream",
     "text": [
      "[[26 21 57 52 76]\n",
      " [88 39 22 80 60]\n",
      " [64 14 73 22 52]\n",
      " [49 46 37 14 39]\n",
      " [73 31 47 72 59]]\n"
     ]
    }
   ],
   "source": [
    "c=np.random.randint(10,90,(5,5))\n",
    "print(c)"
   ]
  },
  {
   "cell_type": "code",
   "execution_count": 32,
   "id": "40f31466",
   "metadata": {},
   "outputs": [
    {
     "name": "stdout",
     "output_type": "stream",
     "text": [
      "(5, 5)\n"
     ]
    }
   ],
   "source": [
    "# array dimension\n",
    "print(c.shape)"
   ]
  },
  {
   "cell_type": "code",
   "execution_count": 33,
   "id": "32383ff9",
   "metadata": {},
   "outputs": [
    {
     "name": "stdout",
     "output_type": "stream",
     "text": [
      "2\n"
     ]
    }
   ],
   "source": [
    "# number of dimensions\n",
    "print(c.ndim)"
   ]
  },
  {
   "cell_type": "code",
   "execution_count": 34,
   "id": "1799fa20",
   "metadata": {},
   "outputs": [
    {
     "name": "stdout",
     "output_type": "stream",
     "text": [
      "25\n"
     ]
    }
   ],
   "source": [
    "# number of elements in an array\n",
    "print(c.size)"
   ]
  },
  {
   "cell_type": "code",
   "execution_count": 35,
   "id": "ca2b550d",
   "metadata": {},
   "outputs": [
    {
     "name": "stdout",
     "output_type": "stream",
     "text": [
      "int32\n"
     ]
    }
   ],
   "source": [
    "# checking the data type of the values in the array\n",
    "print(c.dtype)"
   ]
  },
  {
   "cell_type": "markdown",
   "id": "c955a030",
   "metadata": {},
   "source": [
    "# Mathematical operations in np array"
   ]
  },
  {
   "cell_type": "code",
   "execution_count": 37,
   "id": "e18738d5",
   "metadata": {},
   "outputs": [
    {
     "name": "stdout",
     "output_type": "stream",
     "text": [
      "[1, 2, 3, 4, 5, 6, 7, 8, 9, 10]\n"
     ]
    }
   ],
   "source": [
    "list1=[1,2,3,4,5]\n",
    "list2=[6,7,8,9,10]\n",
    "print(list1+list2)  # concatenate or joins two list"
   ]
  },
  {
   "cell_type": "code",
   "execution_count": 38,
   "id": "800249a4",
   "metadata": {},
   "outputs": [
    {
     "name": "stdout",
     "output_type": "stream",
     "text": [
      "[[6 3 9]\n",
      " [2 8 1]\n",
      " [2 0 0]]\n",
      "[[12 11 12]\n",
      " [19 13 16]\n",
      " [18 12 16]]\n"
     ]
    }
   ],
   "source": [
    "a=np.random.randint(0,10,(3,3))\n",
    "b=np.random.randint(10,20,(3,3))\n",
    "print(a)\n",
    "print(b)"
   ]
  },
  {
   "cell_type": "code",
   "execution_count": 40,
   "id": "b3fd3381",
   "metadata": {},
   "outputs": [
    {
     "name": "stdout",
     "output_type": "stream",
     "text": [
      "[[18 14 21]\n",
      " [21 21 17]\n",
      " [20 12 16]]\n",
      "[[ -6  -8  -3]\n",
      " [-17  -5 -15]\n",
      " [-16 -12 -16]]\n",
      "[[ 72  33 108]\n",
      " [ 38 104  16]\n",
      " [ 36   0   0]]\n",
      "[[0.5        0.27272727 0.75      ]\n",
      " [0.10526316 0.61538462 0.0625    ]\n",
      " [0.11111111 0.         0.        ]]\n"
     ]
    }
   ],
   "source": [
    "print(a+b)\n",
    "print(a-b)\n",
    "print(a*b)\n",
    "print(a/b)"
   ]
  },
  {
   "cell_type": "code",
   "execution_count": 41,
   "id": "abe12bdb",
   "metadata": {},
   "outputs": [
    {
     "name": "stdout",
     "output_type": "stream",
     "text": [
      "[[6 3 9]\n",
      " [2 8 1]\n",
      " [2 0 0]]\n",
      "[[12 11 12]\n",
      " [19 13 16]\n",
      " [18 12 16]]\n"
     ]
    }
   ],
   "source": [
    "print(a)\n",
    "print(b)"
   ]
  },
  {
   "cell_type": "code",
   "execution_count": 42,
   "id": "0092b8bd",
   "metadata": {},
   "outputs": [
    {
     "name": "stdout",
     "output_type": "stream",
     "text": [
      "[[18 14 21]\n",
      " [21 21 17]\n",
      " [20 12 16]]\n",
      "[[ -6  -8  -3]\n",
      " [-17  -5 -15]\n",
      " [-16 -12 -16]]\n",
      "[[ 72  33 108]\n",
      " [ 38 104  16]\n",
      " [ 36   0   0]]\n",
      "[[0.5        0.27272727 0.75      ]\n",
      " [0.10526316 0.61538462 0.0625    ]\n",
      " [0.11111111 0.         0.        ]]\n"
     ]
    }
   ],
   "source": [
    "print(np.add(a,b))\n",
    "print(np.subtract(a,b))\n",
    "print(np.multiply(a,b))\n",
    "print(np.divide(a,b))"
   ]
  },
  {
   "cell_type": "markdown",
   "id": "fee1e889",
   "metadata": {},
   "source": [
    "# Array manipulation"
   ]
  },
  {
   "cell_type": "code",
   "execution_count": 43,
   "id": "8a807ee8",
   "metadata": {},
   "outputs": [
    {
     "name": "stdout",
     "output_type": "stream",
     "text": [
      "[[1 6 9]\n",
      " [4 9 4]]\n",
      "(2, 3)\n"
     ]
    }
   ],
   "source": [
    "array=a=np.random.randint(0,10,(2,3))\n",
    "print(array)\n",
    "print(array.shape)"
   ]
  },
  {
   "cell_type": "code",
   "execution_count": 44,
   "id": "0a37245c",
   "metadata": {},
   "outputs": [
    {
     "name": "stdout",
     "output_type": "stream",
     "text": [
      "[[1 4]\n",
      " [6 9]\n",
      " [9 4]]\n",
      "(3, 2)\n"
     ]
    }
   ],
   "source": [
    "#transpose\n",
    "trans=np.transpose(array)\n",
    "print(trans)\n",
    "print(trans.shape)"
   ]
  },
  {
   "cell_type": "code",
   "execution_count": 45,
   "id": "81a3d74d",
   "metadata": {},
   "outputs": [
    {
     "name": "stdout",
     "output_type": "stream",
     "text": [
      "[[6 3 2]\n",
      " [4 2 6]]\n",
      "(2, 3)\n"
     ]
    }
   ],
   "source": [
    "array=a=np.random.randint(0,10,(2,3))\n",
    "print(array)\n",
    "print(array.shape)"
   ]
  },
  {
   "cell_type": "code",
   "execution_count": 46,
   "id": "323a891e",
   "metadata": {},
   "outputs": [
    {
     "name": "stdout",
     "output_type": "stream",
     "text": [
      "[[6 4]\n",
      " [3 2]\n",
      " [2 6]]\n",
      "(3, 2)\n"
     ]
    }
   ],
   "source": [
    "trans2=array.T\n",
    "print(trans2)\n",
    "print(trans2.shape)"
   ]
  },
  {
   "cell_type": "markdown",
   "id": "679583b8",
   "metadata": {},
   "source": [
    "<b> Reshaping an array </b>"
   ]
  },
  {
   "cell_type": "code",
   "execution_count": 47,
   "id": "ddb07955",
   "metadata": {},
   "outputs": [
    {
     "name": "stdout",
     "output_type": "stream",
     "text": [
      "[[6 9 2]\n",
      " [6 7 9]]\n",
      "(2, 3)\n"
     ]
    }
   ],
   "source": [
    "# Reshaping an array\n",
    "a=np.random.randint(0,10,(2,3))\n",
    "print(a)\n",
    "print(a.shape)"
   ]
  },
  {
   "cell_type": "code",
   "execution_count": 48,
   "id": "290169a7",
   "metadata": {},
   "outputs": [
    {
     "name": "stdout",
     "output_type": "stream",
     "text": [
      "[[6 9]\n",
      " [2 6]\n",
      " [7 9]]\n",
      "(3, 2)\n"
     ]
    }
   ],
   "source": [
    "b=a.reshape(3,2)\n",
    "print(b)\n",
    "print(b.shape)"
   ]
  },
  {
   "cell_type": "code",
   "execution_count": null,
   "id": "f85dbc9a",
   "metadata": {},
   "outputs": [],
   "source": []
  }
 ],
 "metadata": {
  "kernelspec": {
   "display_name": "Python 3 (ipykernel)",
   "language": "python",
   "name": "python3"
  },
  "language_info": {
   "codemirror_mode": {
    "name": "ipython",
    "version": 3
   },
   "file_extension": ".py",
   "mimetype": "text/x-python",
   "name": "python",
   "nbconvert_exporter": "python",
   "pygments_lexer": "ipython3",
   "version": "3.9.13"
  }
 },
 "nbformat": 4,
 "nbformat_minor": 5
}
