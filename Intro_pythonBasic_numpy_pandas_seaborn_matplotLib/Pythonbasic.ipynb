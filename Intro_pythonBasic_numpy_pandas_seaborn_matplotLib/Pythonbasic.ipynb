{
 "cells": [
  {
   "cell_type": "markdown",
   "id": "0c6528cb",
   "metadata": {},
   "source": [
    "Programming Languages : \n",
    "<ul>\n",
    "    <li> Python </li>\n",
    "    <li> R </li>\n",
    " </ul>"
   ]
  },
  {
   "cell_type": "markdown",
   "id": "1c9a5f86",
   "metadata": {},
   "source": [
    "# Print Function"
   ]
  },
  {
   "cell_type": "code",
   "execution_count": 1,
   "id": "8ec45c39",
   "metadata": {},
   "outputs": [
    {
     "name": "stdout",
     "output_type": "stream",
     "text": [
      "Hello World\n"
     ]
    }
   ],
   "source": [
    "print(\"Hello World\")"
   ]
  },
  {
   "cell_type": "code",
   "execution_count": 7,
   "id": "928f1bd5",
   "metadata": {},
   "outputs": [
    {
     "name": "stdout",
     "output_type": "stream",
     "text": [
      "hello 3\n",
      "hello4\n",
      "hello {v}\n",
      "11\n"
     ]
    }
   ],
   "source": [
    "print(\"hello \"+str(3))\n",
    "v=str(4)\n",
    "print(\"hello\"+v)\n",
    "print(\"hello {v}\")\n",
    "print(8+3)"
   ]
  },
  {
   "cell_type": "markdown",
   "id": "566b3deb",
   "metadata": {},
   "source": [
    "<b>Basic Data Types : </b>\n",
    "1) int <br>\n",
    "2) float <br>\n",
    "3) str"
   ]
  },
  {
   "cell_type": "code",
   "execution_count": 8,
   "id": "e6ac0d10",
   "metadata": {},
   "outputs": [
    {
     "data": {
      "text/plain": [
       "int"
      ]
     },
     "execution_count": 8,
     "metadata": {},
     "output_type": "execute_result"
    }
   ],
   "source": [
    "type(8)"
   ]
  },
  {
   "cell_type": "code",
   "execution_count": 10,
   "id": "ec9bd91f",
   "metadata": {},
   "outputs": [
    {
     "data": {
      "text/plain": [
       "float"
      ]
     },
     "execution_count": 10,
     "metadata": {},
     "output_type": "execute_result"
    }
   ],
   "source": [
    "type(5.3)"
   ]
  },
  {
   "cell_type": "code",
   "execution_count": 12,
   "id": "72251362",
   "metadata": {},
   "outputs": [
    {
     "data": {
      "text/plain": [
       "str"
      ]
     },
     "execution_count": 12,
     "metadata": {},
     "output_type": "execute_result"
    }
   ],
   "source": [
    "type(\"Hello Ashik\")"
   ]
  },
  {
   "cell_type": "markdown",
   "id": "9ae023a0",
   "metadata": {},
   "source": [
    "# Constant and Variables"
   ]
  },
  {
   "cell_type": "code",
   "execution_count": 13,
   "id": "54221d9a",
   "metadata": {},
   "outputs": [
    {
     "name": "stdout",
     "output_type": "stream",
     "text": [
      "Ashikur Rahman\n"
     ]
    }
   ],
   "source": [
    "arb=\"Ashikur Rahman\"\n",
    "print(arb)"
   ]
  },
  {
   "cell_type": "code",
   "execution_count": 14,
   "id": "740d1747",
   "metadata": {},
   "outputs": [
    {
     "name": "stdout",
     "output_type": "stream",
     "text": [
      "Ashikur Rahman Bhuyain\n"
     ]
    }
   ],
   "source": [
    "arb=\"Ashikur Rahman Bhuyain\"\n",
    "print(arb)"
   ]
  },
  {
   "cell_type": "code",
   "execution_count": 16,
   "id": "9d5a2d0e",
   "metadata": {},
   "outputs": [
    {
     "name": "stdout",
     "output_type": "stream",
     "text": [
      "Asif\n",
      "ashik\n",
      "arb\n"
     ]
    }
   ],
   "source": [
    "name1 , name2 , name3=\"Asif\" , \"ashik\" , \"arb\"\n",
    "print(name1)\n",
    "print(name2)\n",
    "print(name3)"
   ]
  },
  {
   "cell_type": "code",
   "execution_count": 18,
   "id": "5a5313f1",
   "metadata": {},
   "outputs": [
    {
     "name": "stdout",
     "output_type": "stream",
     "text": [
      "23\n",
      "23\n",
      "23\n"
     ]
    }
   ],
   "source": [
    "x=y=z=23 #giving single value to multiple variable\n",
    "print(x)\n",
    "print(y)\n",
    "print(z)"
   ]
  },
  {
   "cell_type": "markdown",
   "id": "e037e8b3",
   "metadata": {},
   "source": [
    "# Input Function"
   ]
  },
  {
   "cell_type": "code",
   "execution_count": 21,
   "id": "100d7fe2",
   "metadata": {},
   "outputs": [
    {
     "name": "stdout",
     "output_type": "stream",
     "text": [
      "Enter the first number : 33\n",
      "Enter The second number : 33\n",
      "66\n"
     ]
    }
   ],
   "source": [
    "number_1=int(input(\"Enter the first number : \"))  #same as scanf in c/c++\n",
    "number_2=int(input(\"Enter The second number : \"))\n",
    "sum=number_1+number_2\n",
    "print(sum)"
   ]
  },
  {
   "cell_type": "code",
   "execution_count": 24,
   "id": "f9a40746",
   "metadata": {},
   "outputs": [
    {
     "name": "stdout",
     "output_type": "stream",
     "text": [
      "5.0\n",
      "5\n"
     ]
    }
   ],
   "source": [
    "# Changing the Data type in python  \n",
    "num=5\n",
    "print(float(num))\n",
    "\n",
    "print(num)"
   ]
  },
  {
   "cell_type": "markdown",
   "id": "28beafdf",
   "metadata": {},
   "source": [
    "# Basic DataTypes\n",
    "1. Integer\n",
    "2. Floating Point\n",
    "3. Complex\n",
    "4. Boolean\n",
    "5. String"
   ]
  },
  {
   "cell_type": "code",
   "execution_count": 25,
   "id": "2b3b2d67",
   "metadata": {},
   "outputs": [
    {
     "name": "stdout",
     "output_type": "stream",
     "text": [
      "3\n"
     ]
    }
   ],
   "source": [
    "# integers\n",
    "a=3\n",
    "print(a)"
   ]
  },
  {
   "cell_type": "code",
   "execution_count": 27,
   "id": "7346d5c5",
   "metadata": {},
   "outputs": [
    {
     "data": {
      "text/plain": [
       "int"
      ]
     },
     "execution_count": 27,
     "metadata": {},
     "output_type": "execute_result"
    }
   ],
   "source": [
    "type(a)  #type will return the datatype"
   ]
  },
  {
   "cell_type": "code",
   "execution_count": 28,
   "id": "07fd038d",
   "metadata": {},
   "outputs": [
    {
     "name": "stdout",
     "output_type": "stream",
     "text": [
      "2.3\n"
     ]
    },
    {
     "data": {
      "text/plain": [
       "float"
      ]
     },
     "execution_count": 28,
     "metadata": {},
     "output_type": "execute_result"
    }
   ],
   "source": [
    "#Floating point\n",
    "b=2.3\n",
    "print(b)\n",
    "type(b)"
   ]
  },
  {
   "cell_type": "code",
   "execution_count": 30,
   "id": "0c9750e0",
   "metadata": {},
   "outputs": [
    {
     "name": "stdout",
     "output_type": "stream",
     "text": [
      "(1+3j)\n"
     ]
    },
    {
     "data": {
      "text/plain": [
       "complex"
      ]
     },
     "execution_count": 30,
     "metadata": {},
     "output_type": "execute_result"
    }
   ],
   "source": [
    "# Complex number\n",
    "c=3j+1\n",
    "print(c)\n",
    "type(c)"
   ]
  },
  {
   "cell_type": "markdown",
   "id": "86452ace",
   "metadata": {},
   "source": [
    "<b> Conversion of one datatype to another </b>"
   ]
  },
  {
   "cell_type": "code",
   "execution_count": 31,
   "id": "09ff6b00",
   "metadata": {},
   "outputs": [
    {
     "name": "stdout",
     "output_type": "stream",
     "text": [
      "10\n"
     ]
    },
    {
     "data": {
      "text/plain": [
       "int"
      ]
     },
     "execution_count": 31,
     "metadata": {},
     "output_type": "execute_result"
    }
   ],
   "source": [
    "# int to float\n",
    "x=10\n",
    "print(x)\n",
    "type(x)"
   ]
  },
  {
   "cell_type": "code",
   "execution_count": 32,
   "id": "3aaeb610",
   "metadata": {},
   "outputs": [
    {
     "name": "stdout",
     "output_type": "stream",
     "text": [
      "10.0\n"
     ]
    },
    {
     "data": {
      "text/plain": [
       "float"
      ]
     },
     "execution_count": 32,
     "metadata": {},
     "output_type": "execute_result"
    }
   ],
   "source": [
    "y=float(x)\n",
    "print(y)\n",
    "type(y)"
   ]
  },
  {
   "cell_type": "code",
   "execution_count": 33,
   "id": "0860dc4a",
   "metadata": {},
   "outputs": [],
   "source": [
    "#float to int"
   ]
  },
  {
   "cell_type": "code",
   "execution_count": 34,
   "id": "cb8b344e",
   "metadata": {},
   "outputs": [
    {
     "name": "stdout",
     "output_type": "stream",
     "text": [
      "5.88\n"
     ]
    },
    {
     "data": {
      "text/plain": [
       "float"
      ]
     },
     "execution_count": 34,
     "metadata": {},
     "output_type": "execute_result"
    }
   ],
   "source": [
    "x=5.88\n",
    "print(x)\n",
    "type(x)"
   ]
  },
  {
   "cell_type": "code",
   "execution_count": 35,
   "id": "2ed11838",
   "metadata": {},
   "outputs": [
    {
     "name": "stdout",
     "output_type": "stream",
     "text": [
      "5\n"
     ]
    },
    {
     "data": {
      "text/plain": [
       "int"
      ]
     },
     "execution_count": 35,
     "metadata": {},
     "output_type": "execute_result"
    }
   ],
   "source": [
    "y=int(x)\n",
    "print(y)\n",
    "type(y)"
   ]
  },
  {
   "cell_type": "markdown",
   "id": "e6c1355b",
   "metadata": {},
   "source": [
    "<b> Boolean </b>\n",
    "1. True\n",
    "2. False"
   ]
  },
  {
   "cell_type": "code",
   "execution_count": 36,
   "id": "2ad25603",
   "metadata": {},
   "outputs": [
    {
     "name": "stdout",
     "output_type": "stream",
     "text": [
      "True\n"
     ]
    },
    {
     "data": {
      "text/plain": [
       "bool"
      ]
     },
     "execution_count": 36,
     "metadata": {},
     "output_type": "execute_result"
    }
   ],
   "source": [
    "a=True\n",
    "print(a)\n",
    "type(a)"
   ]
  },
  {
   "cell_type": "code",
   "execution_count": 37,
   "id": "5475cc80",
   "metadata": {},
   "outputs": [
    {
     "name": "stdout",
     "output_type": "stream",
     "text": [
      "False\n"
     ]
    },
    {
     "data": {
      "text/plain": [
       "bool"
      ]
     },
     "execution_count": 37,
     "metadata": {},
     "output_type": "execute_result"
    }
   ],
   "source": [
    "b=False\n",
    "print(b)\n",
    "type(b)"
   ]
  },
  {
   "cell_type": "code",
   "execution_count": 38,
   "id": "68c77410",
   "metadata": {},
   "outputs": [
    {
     "name": "stdout",
     "output_type": "stream",
     "text": [
      "False\n"
     ]
    },
    {
     "data": {
      "text/plain": [
       "bool"
      ]
     },
     "execution_count": 38,
     "metadata": {},
     "output_type": "execute_result"
    }
   ],
   "source": [
    "a=7<3\n",
    "print(a)\n",
    "type(a)"
   ]
  },
  {
   "cell_type": "markdown",
   "id": "cb32ea98",
   "metadata": {},
   "source": [
    "<b> String</b>"
   ]
  },
  {
   "cell_type": "code",
   "execution_count": 39,
   "id": "c816467a",
   "metadata": {},
   "outputs": [
    {
     "name": "stdout",
     "output_type": "stream",
     "text": [
      "Machine Learning\n",
      "hello double cotes!\n"
     ]
    }
   ],
   "source": [
    "print('Machine Learning')\n",
    "print(\"hello double cotes!\")"
   ]
  },
  {
   "cell_type": "code",
   "execution_count": 40,
   "id": "80b2a5ea",
   "metadata": {},
   "outputs": [
    {
     "name": "stdout",
     "output_type": "stream",
     "text": [
      "Machine Learning ms\n"
     ]
    },
    {
     "data": {
      "text/plain": [
       "str"
      ]
     },
     "execution_count": 40,
     "metadata": {},
     "output_type": "execute_result"
    }
   ],
   "source": [
    "my_string=\"Machine Learning ms\"\n",
    "print(my_string)\n",
    "type(my_string)"
   ]
  },
  {
   "cell_type": "code",
   "execution_count": 41,
   "id": "d55c1c73",
   "metadata": {},
   "outputs": [
    {
     "name": "stdout",
     "output_type": "stream",
     "text": [
      "Hello Hello Hello Hello Hello \n"
     ]
    }
   ],
   "source": [
    "print(\"Hello \" *5)  # Print this line 4 times"
   ]
  },
  {
   "cell_type": "markdown",
   "id": "0ddfb038",
   "metadata": {},
   "source": [
    "<b> Slicing </b>"
   ]
  },
  {
   "cell_type": "code",
   "execution_count": 44,
   "id": "0c259d4f",
   "metadata": {},
   "outputs": [
    {
     "name": "stdout",
     "output_type": "stream",
     "text": [
      "rogr\n"
     ]
    }
   ],
   "source": [
    "my_string='programming'\n",
    "print(my_string[1:5]) # values from index 1 to 5-1 will be sliced"
   ]
  },
  {
   "cell_type": "code",
   "execution_count": 47,
   "id": "7178ad81",
   "metadata": {},
   "outputs": [
    {
     "name": "stdout",
     "output_type": "stream",
     "text": [
      "pormi\n"
     ]
    }
   ],
   "source": [
    "#step\n",
    "print(my_string[0:10:2]) # every 2th letter from 0th latter to 10 latter"
   ]
  },
  {
   "cell_type": "markdown",
   "id": "4e5c1ba7",
   "metadata": {},
   "source": [
    "<b> String Concatenation </b>\n"
   ]
  },
  {
   "cell_type": "code",
   "execution_count": 49,
   "id": "bd8131e3",
   "metadata": {},
   "outputs": [
    {
     "name": "stdout",
     "output_type": "stream",
     "text": [
      "Machine Learning\n"
     ]
    }
   ],
   "source": [
    "word_1=\"Machine \"\n",
    "word_2=\"Learning\"\n",
    "print(word_1+word_2)"
   ]
  },
  {
   "cell_type": "markdown",
   "id": "49f9000c",
   "metadata": {},
   "source": [
    "# Types of Objects in Python: \n",
    " 1. Immutable Objects\n",
    " 2. Mutable Objects\n",
    " \n",
    " \n",
    " Immutable Objects: \n",
    " 1. int \n",
    " 2. float\n",
    " 3. string\n",
    " 4. bool \n",
    " 5. tuple\n",
    " \n",
    " Mutable Objects : \n",
    " 1. List\n",
    " 2. Set\n",
    " 3. Dictionary"
   ]
  },
  {
   "cell_type": "markdown",
   "id": "5f44a5f7",
   "metadata": {},
   "source": [
    "<b> List </b>"
   ]
  },
  {
   "cell_type": "code",
   "execution_count": 50,
   "id": "d64d8843",
   "metadata": {},
   "outputs": [
    {
     "name": "stdout",
     "output_type": "stream",
     "text": [
      "[1, 2, 3, 4, 5]\n"
     ]
    },
    {
     "data": {
      "text/plain": [
       "list"
      ]
     },
     "execution_count": 50,
     "metadata": {},
     "output_type": "execute_result"
    }
   ],
   "source": [
    "# list should be included in the squre brackets\n",
    "#List can have multiple data types\n",
    "my_list=[1,2,3,4,5]\n",
    "print(my_list)\n",
    "type(my_list)"
   ]
  },
  {
   "cell_type": "code",
   "execution_count": 51,
   "id": "02a39127",
   "metadata": {},
   "outputs": [
    {
     "name": "stdout",
     "output_type": "stream",
     "text": [
      "[2, 3.4, 'English', True]\n"
     ]
    }
   ],
   "source": [
    "#List can have multiple data types\n",
    "my_list=[2,3.4,\"English\",True]\n",
    "print(my_list)"
   ]
  },
  {
   "cell_type": "markdown",
   "id": "56c63a7f",
   "metadata": {},
   "source": [
    "Lists are Mutable -> Changeable"
   ]
  },
  {
   "cell_type": "code",
   "execution_count": 52,
   "id": "91b33e65",
   "metadata": {},
   "outputs": [
    {
     "name": "stdout",
     "output_type": "stream",
     "text": [
      "[2, 3.4, 'English', True, 6]\n"
     ]
    }
   ],
   "source": [
    "#add elements to a list\n",
    "my_list=[2,3.4,\"English\",True]\n",
    "my_list.append(6)\n",
    "print(my_list)"
   ]
  },
  {
   "cell_type": "code",
   "execution_count": 53,
   "id": "162297dd",
   "metadata": {},
   "outputs": [
    {
     "name": "stdout",
     "output_type": "stream",
     "text": [
      "2\n",
      "English\n"
     ]
    }
   ],
   "source": [
    "#print elements of a list using their index\n",
    "print(my_list[0])\n",
    "print(my_list[2])"
   ]
  },
  {
   "cell_type": "code",
   "execution_count": 54,
   "id": "ffa0af75",
   "metadata": {},
   "outputs": [
    {
     "name": "stdout",
     "output_type": "stream",
     "text": [
      "[1, 2, 3, 1, 2]\n"
     ]
    }
   ],
   "source": [
    "#lists allow duplicate values\n",
    "list_1=[1,2,3,1,2]\n",
    "print(list_1)"
   ]
  },
  {
   "cell_type": "code",
   "execution_count": 55,
   "id": "834af0cd",
   "metadata": {},
   "outputs": [
    {
     "name": "stdout",
     "output_type": "stream",
     "text": [
      "5\n"
     ]
    }
   ],
   "source": [
    "print(len(list_1))"
   ]
  },
  {
   "cell_type": "code",
   "execution_count": 56,
   "id": "c7a0eceb",
   "metadata": {},
   "outputs": [
    {
     "name": "stdout",
     "output_type": "stream",
     "text": [
      "[]\n"
     ]
    }
   ],
   "source": [
    "#initiating an empty list\n",
    "list_2=[]\n",
    "print(list_2)"
   ]
  },
  {
   "cell_type": "code",
   "execution_count": 57,
   "id": "03132383",
   "metadata": {},
   "outputs": [
    {
     "name": "stdout",
     "output_type": "stream",
     "text": [
      "[5]\n"
     ]
    }
   ],
   "source": [
    "list_2.append(5)\n",
    "print(list_2)"
   ]
  },
  {
   "cell_type": "code",
   "execution_count": 59,
   "id": "187965b2",
   "metadata": {},
   "outputs": [
    {
     "name": "stdout",
     "output_type": "stream",
     "text": [
      "[2, 3.4, 'English', True]\n",
      "[2, 3.4, True]\n"
     ]
    }
   ],
   "source": [
    "#delete an item in a list\n",
    "list_2=[2, 3.4, 'English', True]\n",
    "print(list_2)\n",
    "del list_2[2]\n",
    "print(list_2)"
   ]
  },
  {
   "cell_type": "code",
   "execution_count": 60,
   "id": "52baf388",
   "metadata": {},
   "outputs": [
    {
     "name": "stdout",
     "output_type": "stream",
     "text": [
      "[1, 2, 3, 4, 5, 6, 7, 8, 9, 10]\n"
     ]
    }
   ],
   "source": [
    "#join two lists\n",
    "list_3=[1,2,3,4,5]\n",
    "list_4=[6,7,8,9,10]\n",
    "list_5=list_3+list_4\n",
    "print(list_5)"
   ]
  },
  {
   "cell_type": "markdown",
   "id": "9967be0a",
   "metadata": {},
   "source": [
    "<b> Tuple </b>"
   ]
  },
  {
   "cell_type": "code",
   "execution_count": 61,
   "id": "574ee7d2",
   "metadata": {},
   "outputs": [
    {
     "name": "stdout",
     "output_type": "stream",
     "text": [
      "(2, 3, 4, 5)\n"
     ]
    },
    {
     "data": {
      "text/plain": [
       "tuple"
      ]
     },
     "execution_count": 61,
     "metadata": {},
     "output_type": "execute_result"
    }
   ],
   "source": [
    "tuple_1=(2,3,4,5)\n",
    "print(tuple_1)\n",
    "type(tuple_1)"
   ]
  },
  {
   "cell_type": "code",
   "execution_count": 62,
   "id": "d2b165b3",
   "metadata": {},
   "outputs": [
    {
     "name": "stdout",
     "output_type": "stream",
     "text": [
      "(1, 2, 3, 4, 'Machine Learning', False)\n"
     ]
    }
   ],
   "source": [
    "#tuple allows multiple data types\n",
    "tuple_2=(1,2,3,4,\"Machine Learning\", False)\n",
    "print(tuple_2)"
   ]
  },
  {
   "cell_type": "code",
   "execution_count": 63,
   "id": "3fe6620a",
   "metadata": {},
   "outputs": [
    {
     "name": "stdout",
     "output_type": "stream",
     "text": [
      "[3, 4, 5, 6]\n",
      "(3, 4, 5, 6)\n"
     ]
    }
   ],
   "source": [
    "#converting a list to a tuple\n",
    "my_list=[3,4,5,6]\n",
    "print(my_list)\n",
    "\n",
    "my_tuple=tuple(my_list)\n",
    "print(my_tuple)"
   ]
  },
  {
   "cell_type": "code",
   "execution_count": 64,
   "id": "9c84bbe2",
   "metadata": {},
   "outputs": [
    {
     "name": "stdout",
     "output_type": "stream",
     "text": [
      "3\n",
      "4\n"
     ]
    }
   ],
   "source": [
    "print(my_tuple[0])\n",
    "print(my_tuple[1])"
   ]
  },
  {
   "cell_type": "markdown",
   "id": "2e17291c",
   "metadata": {},
   "source": [
    "Tuple-> immutable"
   ]
  },
  {
   "cell_type": "code",
   "execution_count": 65,
   "id": "30f52906",
   "metadata": {},
   "outputs": [
    {
     "ename": "AttributeError",
     "evalue": "'tuple' object has no attribute 'append'",
     "output_type": "error",
     "traceback": [
      "\u001b[1;31m---------------------------------------------------------------------------\u001b[0m",
      "\u001b[1;31mAttributeError\u001b[0m                            Traceback (most recent call last)",
      "\u001b[1;32m~\\AppData\\Local\\Temp\\ipykernel_12744\\1848051633.py\u001b[0m in \u001b[0;36m<module>\u001b[1;34m\u001b[0m\n\u001b[1;32m----> 1\u001b[1;33m \u001b[0mmy_tuple\u001b[0m\u001b[1;33m.\u001b[0m\u001b[0mappend\u001b[0m\u001b[1;33m(\u001b[0m\u001b[1;36m3\u001b[0m\u001b[1;33m)\u001b[0m\u001b[1;33m\u001b[0m\u001b[1;33m\u001b[0m\u001b[0m\n\u001b[0m",
      "\u001b[1;31mAttributeError\u001b[0m: 'tuple' object has no attribute 'append'"
     ]
    }
   ],
   "source": [
    "#my_tuple.append(3) #not possible"
   ]
  },
  {
   "cell_type": "code",
   "execution_count": 66,
   "id": "0d2a6539",
   "metadata": {},
   "outputs": [
    {
     "name": "stdout",
     "output_type": "stream",
     "text": [
      "4\n"
     ]
    }
   ],
   "source": [
    "print(len(my_tuple))"
   ]
  },
  {
   "cell_type": "markdown",
   "id": "8d20cc0d",
   "metadata": {},
   "source": [
    "<b> Set </b>"
   ]
  },
  {
   "cell_type": "code",
   "execution_count": 67,
   "id": "a0ed67a1",
   "metadata": {},
   "outputs": [
    {
     "name": "stdout",
     "output_type": "stream",
     "text": [
      "{1, 2, 3, 4, 5}\n"
     ]
    },
    {
     "data": {
      "text/plain": [
       "set"
      ]
     },
     "execution_count": 67,
     "metadata": {},
     "output_type": "execute_result"
    }
   ],
   "source": [
    "# set --> curly brackets\n",
    "my_set={1,2,3,4,5}\n",
    "print(my_set)\n",
    "type(my_set)"
   ]
  },
  {
   "cell_type": "code",
   "execution_count": 68,
   "id": "aa6a79e0",
   "metadata": {},
   "outputs": [
    {
     "ename": "TypeError",
     "evalue": "'set' object is not subscriptable",
     "output_type": "error",
     "traceback": [
      "\u001b[1;31m---------------------------------------------------------------------------\u001b[0m",
      "\u001b[1;31mTypeError\u001b[0m                                 Traceback (most recent call last)",
      "\u001b[1;32m~\\AppData\\Local\\Temp\\ipykernel_12744\\819847201.py\u001b[0m in \u001b[0;36m<module>\u001b[1;34m\u001b[0m\n\u001b[1;32m----> 1\u001b[1;33m \u001b[0mprint\u001b[0m\u001b[1;33m(\u001b[0m\u001b[0mmy_set\u001b[0m\u001b[1;33m[\u001b[0m\u001b[1;36m0\u001b[0m\u001b[1;33m]\u001b[0m\u001b[1;33m)\u001b[0m  \u001b[1;31m#not possible\u001b[0m\u001b[1;33m\u001b[0m\u001b[1;33m\u001b[0m\u001b[0m\n\u001b[0m",
      "\u001b[1;31mTypeError\u001b[0m: 'set' object is not subscriptable"
     ]
    }
   ],
   "source": [
    "#print(my_set[0])  #not possible\n"
   ]
  },
  {
   "cell_type": "code",
   "execution_count": 69,
   "id": "712dd335",
   "metadata": {},
   "outputs": [
    {
     "name": "stdout",
     "output_type": "stream",
     "text": [
      "{4, 5, 6, 7, 8}\n"
     ]
    }
   ],
   "source": [
    "# converting a list to a set\n",
    "list_5=[4,5,6,7,8]\n",
    "x=set(list_5)\n",
    "print(x)"
   ]
  },
  {
   "cell_type": "code",
   "execution_count": 70,
   "id": "d6dac3a0",
   "metadata": {},
   "outputs": [
    {
     "name": "stdout",
     "output_type": "stream",
     "text": [
      "{1, 2, 3, 5}\n"
     ]
    }
   ],
   "source": [
    "#set does not allow duplicate values\n",
    "set_3={1,2,3,5,1,2,3}\n",
    "print(set_3)"
   ]
  },
  {
   "cell_type": "markdown",
   "id": "715861a9",
   "metadata": {},
   "source": [
    "<b> Dictionary </b>"
   ]
  },
  {
   "cell_type": "markdown",
   "id": "408afc87",
   "metadata": {},
   "source": [
    "Key-value pair"
   ]
  },
  {
   "cell_type": "code",
   "execution_count": 71,
   "id": "1472bf2f",
   "metadata": {},
   "outputs": [
    {
     "name": "stdout",
     "output_type": "stream",
     "text": [
      "{'name': 'Ashik', 'age': 24, 'country': 'Bangladesh'}\n"
     ]
    },
    {
     "data": {
      "text/plain": [
       "dict"
      ]
     },
     "execution_count": 71,
     "metadata": {},
     "output_type": "execute_result"
    }
   ],
   "source": [
    "my_dictionary={'name':'Ashik','age':24,'country':\"Bangladesh\"}\n",
    "print(my_dictionary)\n",
    "type(my_dictionary)"
   ]
  },
  {
   "cell_type": "code",
   "execution_count": 72,
   "id": "89a8c01c",
   "metadata": {},
   "outputs": [
    {
     "name": "stdout",
     "output_type": "stream",
     "text": [
      "Ashik\n",
      "24\n",
      "Bangladesh\n"
     ]
    }
   ],
   "source": [
    "print(my_dictionary['name'])\n",
    "print(my_dictionary['age'])\n",
    "print(my_dictionary['country'])"
   ]
  },
  {
   "cell_type": "code",
   "execution_count": 73,
   "id": "634dc94b",
   "metadata": {},
   "outputs": [
    {
     "name": "stdout",
     "output_type": "stream",
     "text": [
      "{'name': 'Ashik', 'age': 24, 'country': 'Bangladesh'}\n"
     ]
    }
   ],
   "source": [
    "# Dictionary does not allow duplicate values\n",
    "dictionary_2={'name':'Ashik','age':24,'country':\"Bangladesh\",'name':'Ashik','age':24,'country':\"Bangladesh\"}\n",
    "print(dictionary_2)"
   ]
  },
  {
   "cell_type": "markdown",
   "id": "e921ac16",
   "metadata": {},
   "source": [
    "# Operators in python:\n",
    "1. Arithmatic Operators\n",
    "2. Assignment Operators \n",
    "3. Comparison Operators\n",
    "4. Logical Operators\n",
    "5. Identity Operators\n",
    "6. Membership Operators\n"
   ]
  },
  {
   "cell_type": "markdown",
   "id": "14195343",
   "metadata": {},
   "source": [
    "<b> 1. Arithmatic operators </b>"
   ]
  },
  {
   "cell_type": "code",
   "execution_count": 77,
   "id": "22c42441",
   "metadata": {},
   "outputs": [
    {
     "name": "stdout",
     "output_type": "stream",
     "text": [
      "sum =  30\n",
      "difference =  10\n",
      "product =  200\n",
      "quotient =  2.0\n",
      "exponent =  10240000000000\n",
      "reminder =  0\n"
     ]
    }
   ],
   "source": [
    "num_1=20\n",
    "num_2=10\n",
    "#addition\n",
    "sum=num_1+num_2\n",
    "print('sum = ',sum)\n",
    "\n",
    "#subtraction\n",
    "diff=num_1-num_2\n",
    "print('difference = ',diff)\n",
    "\n",
    "#multiplication\n",
    "pro=num_1*num_2\n",
    "print('product = ',pro)\n",
    "\n",
    "#difision\n",
    "quo=num_1/num_2\n",
    "print('quotient = ',quo)\n",
    "\n",
    "#exponent\n",
    "exp=num_1**num_2\n",
    "print('exponent = ',exp) #20^ 10\n",
    "\n",
    "#modulus\n",
    "mod=num_1%num_2\n",
    "print('reminder = ',mod)"
   ]
  },
  {
   "cell_type": "markdown",
   "id": "83ee2352",
   "metadata": {},
   "source": [
    "<b> 2. Assignment Operators </b>\n",
    "\n",
    "<br>\n",
    "+= <br>\n",
    "-= <br>\n",
    "*= <br>\n",
    "**= <br>\n",
    "/= <br>\n",
    "%="
   ]
  },
  {
   "cell_type": "code",
   "execution_count": 78,
   "id": "60ea11ca",
   "metadata": {},
   "outputs": [
    {
     "name": "stdout",
     "output_type": "stream",
     "text": [
      "5\n"
     ]
    }
   ],
   "source": [
    "a=5\n",
    "print(a)"
   ]
  },
  {
   "cell_type": "code",
   "execution_count": 80,
   "id": "13c5c5da",
   "metadata": {},
   "outputs": [
    {
     "name": "stdout",
     "output_type": "stream",
     "text": [
      "10\n"
     ]
    }
   ],
   "source": [
    "a=5\n",
    "a+=5 # a=a+5\n",
    "print(a)"
   ]
  },
  {
   "cell_type": "markdown",
   "id": "c5a445fb",
   "metadata": {},
   "source": [
    "<b> 3. Comparison Operators </b>"
   ]
  },
  {
   "cell_type": "markdown",
   "id": "a6403e63",
   "metadata": {},
   "source": [
    "a=5\n",
    "b=10\n",
    "print(a==b)   #equal to \n",
    "print(a!=b)   #not equal to\n",
    "print(a>b)    #greater than\n",
    "print(a<b)    #less then\n",
    "print(a<=b)   \n",
    "print(a>=b)"
   ]
  },
  {
   "cell_type": "markdown",
   "id": "98b71ef6",
   "metadata": {},
   "source": [
    "<b> 4. Logical Operators </b>\n",
    "<br>\n",
    "and <br>\n",
    "or <br>\n",
    "not <br>"
   ]
  },
  {
   "cell_type": "code",
   "execution_count": 85,
   "id": "847282c0",
   "metadata": {},
   "outputs": [
    {
     "name": "stdout",
     "output_type": "stream",
     "text": [
      "False\n",
      "True\n",
      "False\n"
     ]
    }
   ],
   "source": [
    "a=10\n",
    "print(a>20 and a>5)\n",
    "print(a>20 or a>5)\n",
    "print(not(a>8 and a>5))"
   ]
  },
  {
   "cell_type": "markdown",
   "id": "5645be7b",
   "metadata": {},
   "source": [
    "<b> 5. Identity Operator </b>\n",
    "<br>\n",
    "is <br>\n",
    "is not <br>"
   ]
  },
  {
   "cell_type": "code",
   "execution_count": 86,
   "id": "1458cc3b",
   "metadata": {},
   "outputs": [
    {
     "name": "stdout",
     "output_type": "stream",
     "text": [
      "True\n"
     ]
    }
   ],
   "source": [
    "x=5\n",
    "y=5\n",
    "print(x is y)"
   ]
  },
  {
   "cell_type": "code",
   "execution_count": 88,
   "id": "b5f8f003",
   "metadata": {},
   "outputs": [
    {
     "name": "stdout",
     "output_type": "stream",
     "text": [
      "True\n"
     ]
    }
   ],
   "source": [
    "x=5\n",
    "y=10\n",
    "print(x is not y)"
   ]
  },
  {
   "cell_type": "markdown",
   "id": "367387dd",
   "metadata": {},
   "source": [
    "<b> 6. Membership Operator : </b>\n",
    "    <br>\n",
    "    in <br>\n",
    "    not in <br>"
   ]
  },
  {
   "cell_type": "code",
   "execution_count": 90,
   "id": "728059b6",
   "metadata": {},
   "outputs": [
    {
     "name": "stdout",
     "output_type": "stream",
     "text": [
      "True\n",
      "False\n"
     ]
    }
   ],
   "source": [
    "a=5\n",
    "b=10\n",
    "c=[1,2,3,4,5]\n",
    "print(a in c)\n",
    "print(b in c)\n"
   ]
  },
  {
   "cell_type": "code",
   "execution_count": 91,
   "id": "a8de0a55",
   "metadata": {},
   "outputs": [
    {
     "name": "stdout",
     "output_type": "stream",
     "text": [
      "False\n",
      "True\n"
     ]
    }
   ],
   "source": [
    "a=5\n",
    "b=10\n",
    "c=[1,2,3,4,5]\n",
    "print(a not in c)\n",
    "print(b not in c)"
   ]
  },
  {
   "cell_type": "markdown",
   "id": "a4ad42dc",
   "metadata": {},
   "source": [
    "# if else Statement in python\n",
    "<br>\n",
    "simple if else statement"
   ]
  },
  {
   "cell_type": "code",
   "execution_count": 92,
   "id": "dde04ba9",
   "metadata": {},
   "outputs": [
    {
     "name": "stdout",
     "output_type": "stream",
     "text": [
      "b is the greatest number\n"
     ]
    }
   ],
   "source": [
    "a=30\n",
    "b=50\n",
    "if(a>b):\n",
    "    print('a is greatest number')\n",
    "else :\n",
    "    print('b is the greatest number')"
   ]
  },
  {
   "cell_type": "code",
   "execution_count": 93,
   "id": "ab032d08",
   "metadata": {},
   "outputs": [
    {
     "name": "stdout",
     "output_type": "stream",
     "text": [
      "enter the first number : 23\n",
      "enter the second number : 44\n",
      "b is the greatest number\n"
     ]
    }
   ],
   "source": [
    "a=int(input(\"enter the first number : \"))\n",
    "b=int(input('enter the second number : '))\n",
    "if(a>b):\n",
    "    print('a is greatest number')\n",
    "else :\n",
    "    print('b is the greatest number')"
   ]
  },
  {
   "cell_type": "markdown",
   "id": "1b543aaf",
   "metadata": {},
   "source": [
    "if elif else statement"
   ]
  },
  {
   "cell_type": "code",
   "execution_count": 94,
   "id": "958bacad",
   "metadata": {},
   "outputs": [
    {
     "name": "stdout",
     "output_type": "stream",
     "text": [
      "c is the greatest number\n"
     ]
    }
   ],
   "source": [
    "a=15\n",
    "b=20\n",
    "c=25\n",
    "if(b<a>c):\n",
    "    print('a is greatest number')\n",
    "elif (a<b>c) :\n",
    "    print('b is the greatest number')\n",
    "else : \n",
    "    print('c is the greatest number')"
   ]
  },
  {
   "cell_type": "markdown",
   "id": "ba50f8e5",
   "metadata": {},
   "source": [
    "<b> nested if statement </b>"
   ]
  },
  {
   "cell_type": "code",
   "execution_count": 95,
   "id": "fecfe06e",
   "metadata": {},
   "outputs": [
    {
     "name": "stdout",
     "output_type": "stream",
     "text": [
      "c is the greatest number\n"
     ]
    }
   ],
   "source": [
    "a=15\n",
    "b=20\n",
    "c=25\n",
    "if(b<a):\n",
    "    if(a>c):\n",
    "        print('a is greatest number')\n",
    "    else :\n",
    "        print('c is the greatest number')\n",
    "else : \n",
    "    if(b>c):\n",
    "        print('b is the greatest number')\n",
    "    else :\n",
    "        print('c is the greatest number')"
   ]
  },
  {
   "cell_type": "markdown",
   "id": "b8087c3e",
   "metadata": {},
   "source": [
    "# Loops in Python"
   ]
  },
  {
   "cell_type": "markdown",
   "id": "81e353bb",
   "metadata": {},
   "source": [
    "<b> For Loop </b>"
   ]
  },
  {
   "cell_type": "code",
   "execution_count": 1,
   "id": "78b65484",
   "metadata": {},
   "outputs": [
    {
     "name": "stdout",
     "output_type": "stream",
     "text": [
      "Enter the price of the laptop : 3\n",
      "Enter the price of the laptop : 4\n",
      "Enter the price of the laptop : 5\n",
      "Enter the price of the laptop : 6\n",
      "Enter the price of the laptop : 7\n"
     ]
    }
   ],
   "source": [
    "laptop1=int(input(\"Enter the price of the laptop : \"))\n",
    "laptop2=int(input(\"Enter the price of the laptop : \"))\n",
    "laptop3=int(input(\"Enter the price of the laptop : \"))\n",
    "laptop4=int(input(\"Enter the price of the laptop : \"))\n",
    "laptop5=int(input(\"Enter the price of the laptop : \"))"
   ]
  },
  {
   "cell_type": "code",
   "execution_count": 2,
   "id": "4cd98306",
   "metadata": {},
   "outputs": [
    {
     "name": "stdout",
     "output_type": "stream",
     "text": [
      "Enter the price of the laptop : 33\n",
      "Enter the price of the laptop : 44\n",
      "Enter the price of the laptop : 55\n",
      "Enter the price of the laptop : 66\n",
      "Enter the price of the laptop : 77\n"
     ]
    }
   ],
   "source": [
    "for i in range(5):\n",
    "    laptop_price=int(input(\"Enter the price of the laptop : \"))"
   ]
  },
  {
   "cell_type": "code",
   "execution_count": 4,
   "id": "6de19974",
   "metadata": {},
   "outputs": [
    {
     "name": "stdout",
     "output_type": "stream",
     "text": [
      "50\n",
      "100\n",
      "150\n",
      "200\n"
     ]
    }
   ],
   "source": [
    "numbers=[50,100,150,200]\n",
    "for i in numbers:\n",
    "    print(i)"
   ]
  },
  {
   "cell_type": "markdown",
   "id": "ac2e81e5",
   "metadata": {},
   "source": [
    "<b> While loop </b>\n"
   ]
  },
  {
   "cell_type": "code",
   "execution_count": 5,
   "id": "9a44764d",
   "metadata": {},
   "outputs": [
    {
     "name": "stdout",
     "output_type": "stream",
     "text": [
      "0\n",
      "1\n",
      "2\n",
      "3\n",
      "4\n",
      "5\n",
      "6\n",
      "7\n",
      "8\n",
      "9\n"
     ]
    }
   ],
   "source": [
    "i=0\n",
    "while i<10:\n",
    "    print(i)\n",
    "    i+=1  # i = i+1\n",
    "    "
   ]
  },
  {
   "cell_type": "markdown",
   "id": "1919c4f8",
   "metadata": {},
   "source": [
    "# Functions \n",
    "<br> Function is a block of code that can be reused in a program. "
   ]
  },
  {
   "cell_type": "markdown",
   "id": "bdfe3ccc",
   "metadata": {},
   "source": [
    "Factorial of a number"
   ]
  },
  {
   "cell_type": "code",
   "execution_count": 6,
   "id": "6ea3d0c3",
   "metadata": {},
   "outputs": [
    {
     "name": "stdout",
     "output_type": "stream",
     "text": [
      "Enter a number to find its factorial : 10\n",
      "The factorial of  10 is 3628800\n"
     ]
    }
   ],
   "source": [
    "number=int(input(\"Enter a number to find its factorial : \"))\n",
    "factorial=1\n",
    "if number == 0:\n",
    "    print(\"the factorial of 0 is 1\")\n",
    "else :\n",
    "    for i in range (1,number+1):   #range (1 to number)\n",
    "        factorial=factorial*i    \n",
    "        \n",
    "    print('The factorial of ',number,\"is\",factorial)"
   ]
  },
  {
   "cell_type": "markdown",
   "id": "7ce05a65",
   "metadata": {},
   "source": [
    "<b>Factorial function </b>"
   ]
  },
  {
   "cell_type": "code",
   "execution_count": 7,
   "id": "b53f8b2b",
   "metadata": {},
   "outputs": [],
   "source": [
    "def factorial_value(num):\n",
    "    factorial=1\n",
    "    if num==0:\n",
    "        return factorial\n",
    "    else :\n",
    "        for i in range(1,num+1):\n",
    "            factorial=factorial*i\n",
    "        return factorial"
   ]
  },
  {
   "cell_type": "code",
   "execution_count": 8,
   "id": "ef4f8968",
   "metadata": {},
   "outputs": [
    {
     "name": "stdout",
     "output_type": "stream",
     "text": [
      "120\n"
     ]
    }
   ],
   "source": [
    "print(factorial_value(5))"
   ]
  },
  {
   "cell_type": "code",
   "execution_count": 9,
   "id": "56e42791",
   "metadata": {},
   "outputs": [
    {
     "name": "stdout",
     "output_type": "stream",
     "text": [
      "3628800\n"
     ]
    }
   ],
   "source": [
    "print(factorial_value(10))"
   ]
  },
  {
   "cell_type": "markdown",
   "id": "8bffa23b",
   "metadata": {},
   "source": []
  }
 ],
 "metadata": {
  "kernelspec": {
   "display_name": "Python 3 (ipykernel)",
   "language": "python",
   "name": "python3"
  },
  "language_info": {
   "codemirror_mode": {
    "name": "ipython",
    "version": 3
   },
   "file_extension": ".py",
   "mimetype": "text/x-python",
   "name": "python",
   "nbconvert_exporter": "python",
   "pygments_lexer": "ipython3",
   "version": "3.9.13"
  }
 },
 "nbformat": 4,
 "nbformat_minor": 5
}
